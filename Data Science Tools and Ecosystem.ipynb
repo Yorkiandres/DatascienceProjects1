{
 "cells": [
  {
   "cell_type": "markdown",
   "id": "2b1ea699-a3b5-4066-b8eb-3dea96b0df03",
   "metadata": {},
   "source": [
    "# Data Science Tools and Ecosystem"
   ]
  },
  {
   "cell_type": "markdown",
   "id": "8b826723-d929-495d-bb9c-0c81b8198150",
   "metadata": {},
   "source": [
    "In this notebook, Data Science Tools and Ecosystem are summarized."
   ]
  },
  {
   "cell_type": "markdown",
   "id": "7a38a0b2-2ba0-4941-a0da-b6f79acd588f",
   "metadata": {},
   "source": [
    "**Objectives**\n",
    "* Understand the languages used in Data Science.\n",
    "* Identify commonly used libraries in Data Science.\n",
    "* Leam basic concepts of Jupyter Notebook."
   ]
  },
  {
   "cell_type": "markdown",
   "id": "27406a52-5ca6-4b07-a942-811aec9782b7",
   "metadata": {},
   "source": [
    "Some of the popular languages that Data Scientists use are:\n",
    "1. Pynthon\n",
    "2. R\n",
    "3. SQL"
   ]
  },
  {
   "cell_type": "markdown",
   "id": "dd1286c6-c417-4687-bd80-62e733a8f926",
   "metadata": {},
   "source": [
    "Some of the commonly used libraries used by Data Scientists include:\n",
    "1. Panda\n",
    "2. NumPy\n",
    "3. SciPy"
   ]
  },
  {
   "cell_type": "markdown",
   "id": "999e90c9-f972-4f23-9a6e-51893416e560",
   "metadata": {},
   "source": [
    "| Data Science Tools |\n",
    "| :------------------|\n",
    "| Jupyter Notebook   |\n",
    "| RStudio            |\n",
    "| Apache Zeppelin    |"
   ]
  },
  {
   "cell_type": "markdown",
   "id": "ae080420-d2ef-44e3-82c1-e0ff2b45e141",
   "metadata": {},
   "source": [
    "### Below are a few examples of evaluating arithmetic expressions in Python."
   ]
  },
  {
   "cell_type": "code",
   "execution_count": 1,
   "id": "2c98d735-ebdd-4b6a-b384-dd1c59ad351e",
   "metadata": {},
   "outputs": [
    {
     "data": {
      "text/plain": [
       "17.0"
      ]
     },
     "execution_count": 1,
     "metadata": {},
     "output_type": "execute_result"
    }
   ],
   "source": [
    "# This a simple arithmetic expression to multiply then add integers\n",
    "(3*4)+5."
   ]
  },
  {
   "cell_type": "code",
   "execution_count": 2,
   "id": "56f3f3b1-05d9-41c9-be03-4b5945c902af",
   "metadata": {},
   "outputs": [
    {
     "data": {
      "text/plain": [
       "3.3333333333333335"
      ]
     },
     "execution_count": 2,
     "metadata": {},
     "output_type": "execute_result"
    }
   ],
   "source": [
    "# This will convert 200 minutes to hours by diving by 60\n",
    "200 / 60 "
   ]
  },
  {
   "cell_type": "markdown",
   "id": "9775b287-453d-4ede-926a-bbe409a5e6ac",
   "metadata": {},
   "source": [
    "## Author"
   ]
  },
  {
   "cell_type": "markdown",
   "id": "72b867c0-5d6d-40b7-a060-d994cdb5056b",
   "metadata": {},
   "source": [
    "Yorki Rojas Vera "
   ]
  },
  {
   "cell_type": "code",
   "execution_count": null,
   "id": "40d59358-7ef9-4ee2-9462-f0adcc6e83cb",
   "metadata": {},
   "outputs": [],
   "source": []
  }
 ],
 "metadata": {
  "kernelspec": {
   "display_name": "Python 3 (ipykernel)",
   "language": "python",
   "name": "python3"
  },
  "language_info": {
   "codemirror_mode": {
    "name": "ipython",
    "version": 3
   },
   "file_extension": ".py",
   "mimetype": "text/x-python",
   "name": "python",
   "nbconvert_exporter": "python",
   "pygments_lexer": "ipython3",
   "version": "3.11.9"
  }
 },
 "nbformat": 4,
 "nbformat_minor": 5
}
